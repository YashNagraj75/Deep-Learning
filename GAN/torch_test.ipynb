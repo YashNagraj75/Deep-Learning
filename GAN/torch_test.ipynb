{
 "cells": [
  {
   "cell_type": "code",
   "execution_count": 48,
   "metadata": {},
   "outputs": [],
   "source": [
    "import torch\n",
    "from torch import nn  \n"
   ]
  },
  {
   "cell_type": "markdown",
   "metadata": {},
   "source": [
    "# Tensor Properties"
   ]
  },
  {
   "cell_type": "code",
   "execution_count": 31,
   "metadata": {},
   "outputs": [],
   "source": [
    "tensor = torch.Tensor(\n",
    "    [\n",
    "        [[1,2], [3,4]],\n",
    "        [[5,6], [7,8]],\n",
    "        [[12,34], [9,12]],\n",
    "    ]\n",
    ")"
   ]
  },
  {
   "cell_type": "code",
   "execution_count": 32,
   "metadata": {},
   "outputs": [
    {
     "data": {
      "text/plain": [
       "tensor([[[ 1.,  2.],\n",
       "         [ 3.,  4.]],\n",
       "\n",
       "        [[ 5.,  6.],\n",
       "         [ 7.,  8.]],\n",
       "\n",
       "        [[12., 34.],\n",
       "         [ 9., 12.]]])"
      ]
     },
     "execution_count": 32,
     "metadata": {},
     "output_type": "execute_result"
    }
   ],
   "source": [
    "tensor"
   ]
  },
  {
   "cell_type": "code",
   "execution_count": 8,
   "metadata": {},
   "outputs": [
    {
     "data": {
      "text/plain": [
       "device(type='cpu')"
      ]
     },
     "execution_count": 8,
     "metadata": {},
     "output_type": "execute_result"
    }
   ],
   "source": [
    "tensor.device"
   ]
  },
  {
   "cell_type": "code",
   "execution_count": 33,
   "metadata": {},
   "outputs": [
    {
     "name": "stdout",
     "output_type": "stream",
     "text": [
      "torch.Size([3, 2, 2])\n",
      "3\n",
      "2\n",
      "<built-in method type of Tensor object at 0x78df74196a80>\n"
     ]
    }
   ],
   "source": [
    "print(tensor.shape)\n",
    "print(tensor.shape[0])\n",
    "print(tensor.shape[1])\n",
    "print(tensor.type)\n"
   ]
  },
  {
   "cell_type": "code",
   "execution_count": 11,
   "metadata": {},
   "outputs": [
    {
     "name": "stdout",
     "output_type": "stream",
     "text": [
      "Rank: 3\n",
      "Number of elements 12\n"
     ]
    }
   ],
   "source": [
    "print(f\"Rank: {len(tensor.shape)}\")\n",
    "print(f\"Number of elements {tensor.numel()}\")"
   ]
  },
  {
   "cell_type": "code",
   "execution_count": 12,
   "metadata": {},
   "outputs": [
    {
     "data": {
      "text/plain": [
       "tensor([[5, 6],\n",
       "        [7, 8]])"
      ]
     },
     "execution_count": 12,
     "metadata": {},
     "output_type": "execute_result"
    }
   ],
   "source": [
    "tensor[1]"
   ]
  },
  {
   "cell_type": "markdown",
   "metadata": {},
   "source": [
    "## Initializing Tensors"
   ]
  },
  {
   "cell_type": "code",
   "execution_count": 13,
   "metadata": {},
   "outputs": [
    {
     "data": {
      "text/plain": [
       "tensor([[[1, 1],\n",
       "         [1, 1]],\n",
       "\n",
       "        [[1, 1],\n",
       "         [1, 1]],\n",
       "\n",
       "        [[1, 1],\n",
       "         [1, 1]]])"
      ]
     },
     "execution_count": 13,
     "metadata": {},
     "output_type": "execute_result"
    }
   ],
   "source": [
    "torch.ones_like(tensor)"
   ]
  },
  {
   "cell_type": "code",
   "execution_count": 14,
   "metadata": {},
   "outputs": [
    {
     "data": {
      "text/plain": [
       "tensor([[[0, 0],\n",
       "         [0, 0]],\n",
       "\n",
       "        [[0, 0],\n",
       "         [0, 0]],\n",
       "\n",
       "        [[0, 0],\n",
       "         [0, 0]]])"
      ]
     },
     "execution_count": 14,
     "metadata": {},
     "output_type": "execute_result"
    }
   ],
   "source": [
    "torch.zeros_like(tensor)"
   ]
  },
  {
   "cell_type": "code",
   "execution_count": 34,
   "metadata": {},
   "outputs": [
    {
     "data": {
      "text/plain": [
       "tensor([[[ 0.9323, -0.3249],\n",
       "         [ 1.0980,  1.9216]],\n",
       "\n",
       "        [[-1.3921,  0.0825],\n",
       "         [ 0.1673, -0.9808]],\n",
       "\n",
       "        [[-2.0706,  0.5780],\n",
       "         [-0.0597, -0.3301]]])"
      ]
     },
     "execution_count": 34,
     "metadata": {},
     "output_type": "execute_result"
    }
   ],
   "source": [
    "torch.randn_like(tensor)"
   ]
  },
  {
   "cell_type": "code",
   "execution_count": 24,
   "metadata": {},
   "outputs": [
    {
     "data": {
      "text/plain": [
       "tensor([[[-0.5067, -0.7791],\n",
       "         [-0.0654, -1.0737]],\n",
       "\n",
       "        [[ 0.4481,  0.1183],\n",
       "         [ 0.3308,  0.2367]],\n",
       "\n",
       "        [[ 0.7938, -0.0925],\n",
       "         [-0.1894,  0.5915]]])"
      ]
     },
     "execution_count": 24,
     "metadata": {},
     "output_type": "execute_result"
    }
   ],
   "source": [
    "torch.randn(3,2,2, device=\"cpu\")"
   ]
  },
  {
   "cell_type": "code",
   "execution_count": 25,
   "metadata": {},
   "outputs": [
    {
     "data": {
      "text/plain": [
       "tensor([[[-8, -6],\n",
       "         [-4, -2]],\n",
       "\n",
       "        [[ 0,  2],\n",
       "         [ 4,  6]],\n",
       "\n",
       "        [[14, 58],\n",
       "         [ 8, 14]]])"
      ]
     },
     "execution_count": 25,
     "metadata": {},
     "output_type": "execute_result"
    }
   ],
   "source": [
    "(tensor - 5) * 2"
   ]
  },
  {
   "cell_type": "code",
   "execution_count": 37,
   "metadata": {},
   "outputs": [
    {
     "name": "stdout",
     "output_type": "stream",
     "text": [
      "Mean 8.583333015441895\n",
      "Std: 8.764165878295898\n",
      "Along some direction only: tensor([[ 6.0000, 14.0000],\n",
      "        [ 6.3333,  8.0000]])\n"
     ]
    }
   ],
   "source": [
    "print(f\"Mean {tensor.mean()}\")\n",
    "print(f\"Std: {tensor.std()}\")\n",
    "print(f\"Along some direction only: {tensor.mean(0)}\")"
   ]
  },
  {
   "cell_type": "code",
   "execution_count": 39,
   "metadata": {},
   "outputs": [
    {
     "data": {
      "text/plain": [
       "tensor([[ 0.0070,  1.3981],\n",
       "        [ 0.5824,  0.2040],\n",
       "        [-0.6463,  0.2239],\n",
       "        [-0.4834,  0.4623]], grad_fn=<AddmmBackward0>)"
      ]
     },
     "execution_count": 39,
     "metadata": {},
     "output_type": "execute_result"
    }
   ],
   "source": [
    "linear = nn.Linear(10,2)\n",
    "example_input = torch.randn(4, 10)\n",
    "example_output = linear(example_input)\n",
    "example_output"
   ]
  },
  {
   "cell_type": "code",
   "execution_count": 42,
   "metadata": {},
   "outputs": [
    {
     "name": "stdout",
     "output_type": "stream",
     "text": [
      "tensor([[0.0070, 1.3981],\n",
      "        [0.5824, 0.2040],\n",
      "        [0.0000, 0.2239],\n",
      "        [0.0000, 0.4623]], grad_fn=<ReluBackward0>)\n",
      "tensor(0.3597, grad_fn=<MeanBackward0>)\n"
     ]
    }
   ],
   "source": [
    "relu = nn.ReLU()\n",
    "relu_output = relu(example_output)\n",
    "print(relu_output)\n",
    "print(relu_output.mean())"
   ]
  },
  {
   "cell_type": "code",
   "execution_count": 43,
   "metadata": {},
   "outputs": [
    {
     "name": "stdout",
     "output_type": "stream",
     "text": [
      "tensor([[-0.5587,  1.6940],\n",
      "        [ 1.7318, -0.7548],\n",
      "        [-0.5866, -0.7141],\n",
      "        [-0.5866, -0.2252]], grad_fn=<NativeBatchNormBackward0>)\n",
      "tensor(4.0978e-08, grad_fn=<MeanBackward0>)\n"
     ]
    }
   ],
   "source": [
    "batchnorm = nn.BatchNorm1d(2)\n",
    "batchnorm_output = batchnorm(relu_output)\n",
    "print(batchnorm_output)\n",
    "print(batchnorm_output.mean())"
   ]
  },
  {
   "cell_type": "code",
   "execution_count": 44,
   "metadata": {},
   "outputs": [
    {
     "name": "stdout",
     "output_type": "stream",
     "text": [
      "tensor([[-0.7427,  1.9736,  2.7683,  0.1659,  0.0054],\n",
      "        [ 2.0893,  0.7640,  1.8830,  1.8220,  0.4925],\n",
      "        [ 1.0571,  0.2857,  0.5241,  0.6252,  0.0909],\n",
      "        [ 0.3798,  1.2828,  0.1494,  0.5730, -0.6616],\n",
      "        [ 1.5438,  2.1906, -0.5518,  0.4498,  0.9726]])\n",
      "tensor([[1.8739, 0.3665],\n",
      "        [0.0000, 0.0000],\n",
      "        [0.0000, 1.8093],\n",
      "        [0.0000, 0.0000],\n",
      "        [0.1695, 0.0000]], grad_fn=<ReluBackward0>)\n"
     ]
    }
   ],
   "source": [
    "mlp_layer = nn.Sequential(\n",
    "    nn.Linear(5,2),\n",
    "    nn.BatchNorm1d(2),\n",
    "    nn.ReLU()\n",
    ")\n",
    "\n",
    "test_example = torch.randn(5,5) + 1 \n",
    "print(test_example)\n",
    "print(mlp_layer(test_example))"
   ]
  },
  {
   "cell_type": "markdown",
   "metadata": {},
   "source": [
    "## Optimization and Training Loop"
   ]
  },
  {
   "cell_type": "code",
   "execution_count": 46,
   "metadata": {},
   "outputs": [
    {
     "name": "stderr",
     "output_type": "stream",
     "text": [
      "/home/yash/.local/lib/python3.12/site-packages/tqdm/auto.py:21: TqdmWarning: IProgress not found. Please update jupyter and ipywidgets. See https://ipywidgets.readthedocs.io/en/stable/user_install.html\n",
      "  from .autonotebook import tqdm as notebook_tqdm\n"
     ]
    }
   ],
   "source": [
    "import torch.optim as optim\n",
    "adam_opt = optim.Adam(mlp_layer.parameters(), lr=1e-1)"
   ]
  },
  {
   "cell_type": "code",
   "execution_count": 49,
   "metadata": {},
   "outputs": [
    {
     "name": "stdout",
     "output_type": "stream",
     "text": [
      "tensor(0.7652, grad_fn=<MeanBackward0>)\n"
     ]
    }
   ],
   "source": [
    "training_example = torch.randn(100,5)\n",
    "adam_opt.zero_grad()\n",
    "\n",
    "cur_loss = torch.abs(1 - mlp_layer(training_example)).mean()\n",
    "cur_loss.backward()\n",
    "adam_opt.step()\n",
    "print(cur_loss)"
   ]
  },
  {
   "cell_type": "code",
   "execution_count": 50,
   "metadata": {},
   "outputs": [],
   "source": [
    "class ExampleModule(nn.Module):\n",
    "    def __init__(self, input_dims, output_dims) -> None:\n",
    "        super(ExampleModule, self).__init__()\n",
    "        self.linear = nn.Linear(input_dims, output_dims)\n",
    "        self.exponent = nn.Parameter(torch.tensor(1.))\n",
    "\n",
    "    def forward(self, x):\n",
    "        x = self.linear(x)\n",
    "        x = x ** self.exponent\n",
    "        return x"
   ]
  },
  {
   "cell_type": "code",
   "execution_count": 52,
   "metadata": {},
   "outputs": [
    {
     "name": "stdout",
     "output_type": "stream",
     "text": [
      "[Parameter containing:\n",
      "tensor(1., requires_grad=True), Parameter containing:\n",
      "tensor([[ 0.1752,  0.1322, -0.2466,  0.2553,  0.3086,  0.0595,  0.0936, -0.0332,\n",
      "         -0.0893, -0.0972],\n",
      "        [-0.1721,  0.2393, -0.2147,  0.0393,  0.2266,  0.0535, -0.1146, -0.1469,\n",
      "          0.2760,  0.0146]], requires_grad=True), Parameter containing:\n",
      "tensor([-0.0087,  0.3104], requires_grad=True)]\n"
     ]
    }
   ],
   "source": [
    "example_module = ExampleModule(10, 2)\n",
    "print(list(example_module.parameters()))"
   ]
  },
  {
   "cell_type": "code",
   "execution_count": 53,
   "metadata": {},
   "outputs": [
    {
     "name": "stdout",
     "output_type": "stream",
     "text": [
      "[('exponent', Parameter containing:\n",
      "tensor(1., requires_grad=True)), ('linear.weight', Parameter containing:\n",
      "tensor([[ 0.1752,  0.1322, -0.2466,  0.2553,  0.3086,  0.0595,  0.0936, -0.0332,\n",
      "         -0.0893, -0.0972],\n",
      "        [-0.1721,  0.2393, -0.2147,  0.0393,  0.2266,  0.0535, -0.1146, -0.1469,\n",
      "          0.2760,  0.0146]], requires_grad=True)), ('linear.bias', Parameter containing:\n",
      "tensor([-0.0087,  0.3104], requires_grad=True))]\n"
     ]
    }
   ],
   "source": [
    "print(list(example_module.named_parameters()))"
   ]
  },
  {
   "cell_type": "code",
   "execution_count": null,
   "metadata": {},
   "outputs": [],
   "source": []
  }
 ],
 "metadata": {
  "kernelspec": {
   "display_name": "Python 3",
   "language": "python",
   "name": "python3"
  },
  "language_info": {
   "codemirror_mode": {
    "name": "ipython",
    "version": 3
   },
   "file_extension": ".py",
   "mimetype": "text/x-python",
   "name": "python",
   "nbconvert_exporter": "python",
   "pygments_lexer": "ipython3",
   "version": "3.12.3"
  }
 },
 "nbformat": 4,
 "nbformat_minor": 2
}
