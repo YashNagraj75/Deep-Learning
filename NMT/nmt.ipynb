{
 "cells": [
  {
   "cell_type": "code",
   "execution_count": 2,
   "metadata": {},
   "outputs": [],
   "source": [
    "from tensorflow.keras.layers import Bidirectional,Concatenate,Permute,Dot,Input,LSTM,Multiply\n",
    "from tensorflow.keras.layers import RepeatVector,Dense,Activation, Lambda\n",
    "from tensorflow.keras.optimizers import Adam\n",
    "from tensorflow.keras.utils import to_categorical\n",
    "from tensorflow.keras.models import load_model, Model\n",
    "import tensorflow.keras.backend as K\n",
    "import tensorflow as tf\n",
    "import numpy as np\n",
    "\n",
    "from faker import Faker\n",
    "import random\n",
    "from tqdm import tqdm\n",
    "from babel.dates import format_date\n",
    "import matplotlib.pyplot as plt\n",
    "%matplotlib inline"
   ]
  },
  {
   "cell_type": "markdown",
   "metadata": {},
   "source": [
    "# 1. Preparing Dataset \n",
    "Here we will synthetically generate a dataset and write helper functions for the same."
   ]
  },
  {
   "cell_type": "code",
   "execution_count": 16,
   "metadata": {},
   "outputs": [],
   "source": [
    "# These are formats for generating the date the short , medium and full formats are formats specified by babel.dates import , check babel docs\n",
    "FORMATS = ['short',\n",
    "           'medium',\n",
    "           'long',\n",
    "           'full',\n",
    "           'full',\n",
    "           'full',\n",
    "           'full',\n",
    "           'full',\n",
    "           'full',\n",
    "           'full',\n",
    "           'full',\n",
    "           'full',\n",
    "           'full',\n",
    "           'd MMM YYY', \n",
    "           'd MMMM YYY',\n",
    "           'dd MMM YYY',\n",
    "           'd MMM, YYY',\n",
    "           'd MMMM, YYY',\n",
    "           'dd, MMM YYY',\n",
    "           'd MM YY',\n",
    "           'd MMMM YYY',\n",
    "           'MMMM d YYY',\n",
    "           'MMMM d, YYY',\n",
    "           'dd.MM.YY']\n",
    "\n",
    "\n",
    "def load_date() -> tuple:\n",
    "    fake = Faker()\n",
    "    date = fake.date_object()\n",
    "\n",
    "    try:\n",
    "        human_readable = format_date(date,random.choice(FORMATS),locale=\"en_US\")\n",
    "        human_readable = human_readable.lower()\n",
    "        human_readable = human_readable.replace(\",\",\"\")\n",
    "        machine_readable = date.isoformat()\n",
    "    \n",
    "    except AttributeError as e:\n",
    "        return None,None,None\n",
    "\n",
    "    return human_readable,machine_readable ,date\n",
    "\n",
    "\n",
    "def load_dataset(m):\n",
    "    human_vocab = set()\n",
    "    machine_vocab = set()\n",
    "    dataset = []\n",
    "    Tx = 30 # This is the max length of the date string we assume \n",
    "\n",
    "    for _ in tqdm(range(m)):\n",
    "        h,m,_ = load_date()\n",
    "        if h is not None:\n",
    "            dataset.append((h,m))\n",
    "            human_vocab.update(h)\n",
    "            machine_vocab.update(m)\n",
    "\n",
    "    human = dict(zip(sorted(human_vocab) + ['<unk>', '<pad>'], \n",
    "                     list(range(len(human_vocab) + 2))))\n",
    "    inv_machine = dict(enumerate(sorted(machine_vocab)))\n",
    "    machine = {v:k for k,v in inv_machine.items()}\n",
    "\n",
    "    return dataset,human,machine,inv_machine"
   ]
  },
  {
   "cell_type": "code",
   "execution_count": 17,
   "metadata": {},
   "outputs": [
    {
     "name": "stderr",
     "output_type": "stream",
     "text": [
      "100%|██████████| 10000/10000 [01:03<00:00, 158.11it/s]\n"
     ]
    }
   ],
   "source": [
    "dataset, human, machine, inv_machine = load_dataset(10000)"
   ]
  },
  {
   "cell_type": "code",
   "execution_count": 18,
   "metadata": {},
   "outputs": [
    {
     "data": {
      "text/plain": [
       "[('mar 9 2007', '2007-03-09'),\n",
       " ('february 11 1972', '1972-02-11'),\n",
       " ('2 nov 2019', '2019-11-02'),\n",
       " ('tuesday may 4 1999', '1999-05-04'),\n",
       " ('thursday december 30 2004', '2004-12-30'),\n",
       " ('friday november 10 2017', '2017-11-10'),\n",
       " ('wednesday march 8 1995', '1995-03-08'),\n",
       " ('2 april 1988', '1988-04-02'),\n",
       " ('monday march 25 2019', '2019-03-25'),\n",
       " ('24.03.22', '2022-03-24')]"
      ]
     },
     "execution_count": 18,
     "metadata": {},
     "output_type": "execute_result"
    }
   ],
   "source": [
    "dataset[:10]"
   ]
  },
  {
   "cell_type": "code",
   "execution_count": null,
   "metadata": {},
   "outputs": [],
   "source": [
    "def preprocess_data(dataset,human,machine,Tx,Ty):\n",
    "    "
   ]
  }
 ],
 "metadata": {
  "kernelspec": {
   "display_name": "Python 3",
   "language": "python",
   "name": "python3"
  },
  "language_info": {
   "codemirror_mode": {
    "name": "ipython",
    "version": 3
   },
   "file_extension": ".py",
   "mimetype": "text/x-python",
   "name": "python",
   "nbconvert_exporter": "python",
   "pygments_lexer": "ipython3",
   "version": "3.12.3"
  }
 },
 "nbformat": 4,
 "nbformat_minor": 2
}
